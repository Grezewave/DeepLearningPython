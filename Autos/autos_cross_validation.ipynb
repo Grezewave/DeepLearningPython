{
 "cells": [
  {
   "cell_type": "code",
   "execution_count": 1,
   "metadata": {},
   "outputs": [],
   "source": [
    "import pandas as pd"
   ]
  },
  {
   "cell_type": "code",
   "execution_count": 2,
   "metadata": {},
   "outputs": [],
   "source": [
    "repository = pd.read_csv(\"./autos.csv\", encoding='ISO-8859-1')"
   ]
  },
  {
   "cell_type": "code",
   "execution_count": 3,
   "metadata": {},
   "outputs": [],
   "source": [
    "repository = repository.drop('dateCrawled', axis=1)\\\n",
    "                       .drop('dateCreated', axis=1)\\\n",
    "                       .drop('nrOfPictures', axis=1)\\\n",
    "                       .drop('postalCode', axis=1)\\\n",
    "                       .drop('name', axis=1)\\\n",
    "                       .drop('seller', axis=1)\\\n",
    "                       .drop('offerType', axis=1)\\\n",
    "                       .drop('lastSeen', axis=1)"
   ]
  },
  {
   "cell_type": "code",
   "execution_count": 4,
   "metadata": {},
   "outputs": [],
   "source": [
    "i1 = repository.loc[repository.price <= 10]\n",
    "repository = repository[repository.price > 10]"
   ]
  },
  {
   "cell_type": "code",
   "execution_count": 5,
   "metadata": {},
   "outputs": [],
   "source": [
    "i1 = repository.loc[repository.price >= 350000]\n",
    "repository = repository[repository.price < 350000]"
   ]
  },
  {
   "cell_type": "code",
   "execution_count": 6,
   "metadata": {},
   "outputs": [
    {
     "data": {
      "text/plain": [
       "limousine     93614\n",
       "kleinwagen    78014\n",
       "kombi         65921\n",
       "bus           29699\n",
       "cabrio        22509\n",
       "coupe         18386\n",
       "suv           14477\n",
       "andere         3125\n",
       "Name: vehicleType, dtype: int64"
      ]
     },
     "execution_count": 6,
     "metadata": {},
     "output_type": "execute_result"
    }
   ],
   "source": [
    "repository.loc[pd.isnull(repository['vehicleType'])]\n",
    "repository['vehicleType'].value_counts() #limousine"
   ]
  },
  {
   "cell_type": "code",
   "execution_count": 7,
   "metadata": {},
   "outputs": [
    {
     "data": {
      "text/plain": [
       "manuell      266547\n",
       "automatik     75508\n",
       "Name: gearbox, dtype: int64"
      ]
     },
     "execution_count": 7,
     "metadata": {},
     "output_type": "execute_result"
    }
   ],
   "source": [
    "repository.loc[pd.isnull(repository['gearbox'])]\n",
    "repository['gearbox'].value_counts() # manuell"
   ]
  },
  {
   "cell_type": "code",
   "execution_count": 8,
   "metadata": {},
   "outputs": [
    {
     "data": {
      "text/plain": [
       "golf               28989\n",
       "andere             25560\n",
       "3er                19905\n",
       "polo               12604\n",
       "corsa              12149\n",
       "                   ...  \n",
       "serie_2                8\n",
       "rangerover             6\n",
       "serie_3                3\n",
       "serie_1                1\n",
       "discovery_sport        1\n",
       "Name: model, Length: 251, dtype: int64"
      ]
     },
     "execution_count": 8,
     "metadata": {},
     "output_type": "execute_result"
    }
   ],
   "source": [
    "repository.loc[pd.isnull(repository['model'])]\n",
    "repository['model'].value_counts() # golf"
   ]
  },
  {
   "cell_type": "code",
   "execution_count": 9,
   "metadata": {},
   "outputs": [
    {
     "data": {
      "text/plain": [
       "benzin     217582\n",
       "diesel     106002\n",
       "lpg          5222\n",
       "cng           557\n",
       "hybrid        271\n",
       "andere        165\n",
       "elektro       101\n",
       "Name: fuelType, dtype: int64"
      ]
     },
     "execution_count": 9,
     "metadata": {},
     "output_type": "execute_result"
    }
   ],
   "source": [
    "repository.loc[pd.isnull(repository['fuelType'])]\n",
    "repository['fuelType'].value_counts() # benzin"
   ]
  },
  {
   "cell_type": "code",
   "execution_count": 10,
   "metadata": {},
   "outputs": [
    {
     "data": {
      "text/plain": [
       "nein    259301\n",
       "ja       34004\n",
       "Name: notRepairedDamage, dtype: int64"
      ]
     },
     "execution_count": 10,
     "metadata": {},
     "output_type": "execute_result"
    }
   ],
   "source": [
    "repository.loc[pd.isnull(repository['notRepairedDamage'])]\n",
    "repository['notRepairedDamage'].value_counts() # nein"
   ]
  },
  {
   "cell_type": "code",
   "execution_count": 11,
   "metadata": {},
   "outputs": [],
   "source": [
    "values = {\n",
    "    'vehicleType': 'limousine',\n",
    "    'gearbox': 'manuell',\n",
    "    'model': 'golf',\n",
    "    'fuelType': 'benzin',\n",
    "    'notRepairedDamage': 'nein'\n",
    "}\n",
    "\n",
    "repository = repository.fillna(value=values)"
   ]
  },
  {
   "cell_type": "code",
   "execution_count": 12,
   "metadata": {},
   "outputs": [],
   "source": [
    "previsors = repository.iloc[:, 1:13].values\n",
    "real_price = repository.iloc[:, 0].values\n"
   ]
  },
  {
   "cell_type": "code",
   "execution_count": 13,
   "metadata": {},
   "outputs": [],
   "source": [
    "from sklearn.preprocessing import LabelEncoder, OneHotEncoder\n",
    "labelEncoder_prev = LabelEncoder()\n",
    "previsors[:,0] = labelEncoder_prev.fit_transform(previsors[:,0])\n",
    "previsors[:,1] = labelEncoder_prev.fit_transform(previsors[:,1])\n",
    "previsors[:,3] = labelEncoder_prev.fit_transform(previsors[:,3])\n",
    "previsors[:,5] = labelEncoder_prev.fit_transform(previsors[:,5])\n",
    "previsors[:,8] = labelEncoder_prev.fit_transform(previsors[:,8])\n",
    "previsors[:,9] = labelEncoder_prev.fit_transform(previsors[:,9])\n",
    "previsors[:,10] = labelEncoder_prev.fit_transform(previsors[:,10])"
   ]
  },
  {
   "cell_type": "code",
   "execution_count": 14,
   "metadata": {},
   "outputs": [
    {
     "name": "stderr",
     "output_type": "stream",
     "text": [
      "c:\\ProgramData\\anaconda3\\lib\\site-packages\\sklearn\\preprocessing\\_encoders.py:828: FutureWarning: `sparse` was renamed to `sparse_output` in version 1.2 and will be removed in 1.4. `sparse_output` is ignored unless you leave `sparse` to its default value.\n",
      "  warnings.warn(\n"
     ]
    }
   ],
   "source": [
    "import numpy as np\n",
    "encoder = OneHotEncoder(sparse=False)\n",
    "cols_to_encode = [0, 1, 3, 5, 8, 9, 10]\n",
    "columns_to_encode = previsors[:, cols_to_encode]\n",
    "encoded_columns = encoder.fit_transform(columns_to_encode)\n",
    "dataset_encoded = np.delete(previsors, cols_to_encode, axis=1)\n",
    "dataset_encoded = np.concatenate((dataset_encoded, encoded_columns), axis=1)\n",
    "previsorsEncoded = dataset_encoded.astype(float)"
   ]
  },
  {
   "cell_type": "code",
   "execution_count": 15,
   "metadata": {},
   "outputs": [
    {
     "data": {
      "text/plain": [
       "array([[1.993e+03, 0.000e+00, 1.500e+05, ..., 0.000e+00, 0.000e+00,\n",
       "        1.000e+00],\n",
       "       [2.011e+03, 1.900e+02, 1.250e+05, ..., 0.000e+00, 1.000e+00,\n",
       "        0.000e+00],\n",
       "       [2.004e+03, 1.630e+02, 1.250e+05, ..., 0.000e+00, 0.000e+00,\n",
       "        1.000e+00],\n",
       "       ...,\n",
       "       [1.996e+03, 1.020e+02, 1.500e+05, ..., 0.000e+00, 0.000e+00,\n",
       "        1.000e+00],\n",
       "       [2.002e+03, 1.000e+02, 1.500e+05, ..., 0.000e+00, 0.000e+00,\n",
       "        1.000e+00],\n",
       "       [2.013e+03, 3.200e+02, 5.000e+04, ..., 0.000e+00, 0.000e+00,\n",
       "        1.000e+00]])"
      ]
     },
     "execution_count": 15,
     "metadata": {},
     "output_type": "execute_result"
    }
   ],
   "source": [
    "previsorsEncoded"
   ]
  },
  {
   "cell_type": "code",
   "execution_count": 16,
   "metadata": {},
   "outputs": [],
   "source": [
    "from keras.layers import Dense\n",
    "from keras.models import Sequential\n",
    "from sklearn.model_selection import cross_val_score\n",
    "from keras.wrappers.scikit_learn import KerasRegressor"
   ]
  },
  {
   "cell_type": "code",
   "execution_count": 17,
   "metadata": {},
   "outputs": [],
   "source": [
    "def createNetwork():\n",
    "    regressor = Sequential()\n",
    "    regressor.add(Dense(units=158, activation='relu', input_dim=316))\n",
    "    regressor.add(Dense(units=158, activation='relu'))\n",
    "    regressor.add(Dense(units=1, activation='linear'))\n",
    "    regressor.compile(loss='mean_absolute_error', optimizer='adam', metrics=['mean_absolute_error'])\n",
    "\n",
    "    return regressor"
   ]
  },
  {
   "cell_type": "code",
   "execution_count": 18,
   "metadata": {},
   "outputs": [
    {
     "name": "stderr",
     "output_type": "stream",
     "text": [
      "C:\\Users\\Greze\\AppData\\Local\\Temp\\ipykernel_16204\\2938390706.py:1: DeprecationWarning: KerasRegressor is deprecated, use Sci-Keras (https://github.com/adriangb/scikeras) instead. See https://www.adriangb.com/scikeras/stable/migration.html for help migrating.\n",
      "  regressor = KerasRegressor(build_fn=createNetwork, epochs=100, batch_size=300)\n"
     ]
    }
   ],
   "source": [
    "regressor = KerasRegressor(build_fn=createNetwork, epochs=100, batch_size=300)\n",
    "results = cross_val_score(estimator=regressor, X=previsorsEncoded, y=-real_price, cv=10, scoring='neg_mean_absolute_error',  n_jobs=-1)"
   ]
  },
  {
   "cell_type": "code",
   "execution_count": null,
   "metadata": {},
   "outputs": [
    {
     "name": "stdout",
     "output_type": "stream",
     "text": [
      "11228/11228 [==============================] - 16s 1ms/step\n"
     ]
    }
   ],
   "source": [
    "mean = results.mean()\n",
    "std = results.std()\n",
    "\n"
   ]
  }
 ],
 "metadata": {
  "kernelspec": {
   "display_name": "base",
   "language": "python",
   "name": "python3"
  },
  "language_info": {
   "codemirror_mode": {
    "name": "ipython",
    "version": 3
   },
   "file_extension": ".py",
   "mimetype": "text/x-python",
   "name": "python",
   "nbconvert_exporter": "python",
   "pygments_lexer": "ipython3",
   "version": "3.10.9"
  },
  "orig_nbformat": 4
 },
 "nbformat": 4,
 "nbformat_minor": 2
}
