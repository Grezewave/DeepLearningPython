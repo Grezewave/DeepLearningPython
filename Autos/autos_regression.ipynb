{
 "cells": [
  {
   "cell_type": "code",
   "execution_count": 137,
   "metadata": {},
   "outputs": [],
   "source": [
    "import pandas as pd"
   ]
  },
  {
   "cell_type": "code",
   "execution_count": 138,
   "metadata": {},
   "outputs": [],
   "source": [
    "repository = pd.read_csv(\"./autos.csv\", encoding='ISO-8859-1')"
   ]
  },
  {
   "cell_type": "code",
   "execution_count": 139,
   "metadata": {},
   "outputs": [],
   "source": [
    "repository = repository.drop('dateCrawled', axis=1)\\\n",
    "                       .drop('dateCreated', axis=1)\\\n",
    "                       .drop('nrOfPictures', axis=1)\\\n",
    "                       .drop('postalCode', axis=1)\\\n",
    "                       .drop('name', axis=1)\\\n",
    "                       .drop('seller', axis=1)\\\n",
    "                       .drop('offerType', axis=1)\\\n",
    "                       .drop('lastSeen', axis=1)"
   ]
  },
  {
   "cell_type": "code",
   "execution_count": 140,
   "metadata": {},
   "outputs": [],
   "source": [
    "i1 = repository.loc[repository.price <= 10]\n",
    "repository = repository[repository.price > 10]"
   ]
  },
  {
   "cell_type": "code",
   "execution_count": 141,
   "metadata": {},
   "outputs": [],
   "source": [
    "i1 = repository.loc[repository.price >= 350000]\n",
    "repository = repository[repository.price < 350000]"
   ]
  },
  {
   "cell_type": "code",
   "execution_count": 142,
   "metadata": {},
   "outputs": [
    {
     "data": {
      "text/plain": [
       "limousine     93614\n",
       "kleinwagen    78014\n",
       "kombi         65921\n",
       "bus           29699\n",
       "cabrio        22509\n",
       "coupe         18386\n",
       "suv           14477\n",
       "andere         3125\n",
       "Name: vehicleType, dtype: int64"
      ]
     },
     "execution_count": 142,
     "metadata": {},
     "output_type": "execute_result"
    }
   ],
   "source": [
    "repository.loc[pd.isnull(repository['vehicleType'])]\n",
    "repository['vehicleType'].value_counts() #limousine"
   ]
  },
  {
   "cell_type": "code",
   "execution_count": 143,
   "metadata": {},
   "outputs": [
    {
     "data": {
      "text/plain": [
       "manuell      266547\n",
       "automatik     75508\n",
       "Name: gearbox, dtype: int64"
      ]
     },
     "execution_count": 143,
     "metadata": {},
     "output_type": "execute_result"
    }
   ],
   "source": [
    "repository.loc[pd.isnull(repository['gearbox'])]\n",
    "repository['gearbox'].value_counts() # manuell"
   ]
  },
  {
   "cell_type": "code",
   "execution_count": 144,
   "metadata": {},
   "outputs": [
    {
     "data": {
      "text/plain": [
       "golf               28989\n",
       "andere             25560\n",
       "3er                19905\n",
       "polo               12604\n",
       "corsa              12149\n",
       "                   ...  \n",
       "serie_2                8\n",
       "rangerover             6\n",
       "serie_3                3\n",
       "serie_1                1\n",
       "discovery_sport        1\n",
       "Name: model, Length: 251, dtype: int64"
      ]
     },
     "execution_count": 144,
     "metadata": {},
     "output_type": "execute_result"
    }
   ],
   "source": [
    "repository.loc[pd.isnull(repository['model'])]\n",
    "repository['model'].value_counts() # golf"
   ]
  },
  {
   "cell_type": "code",
   "execution_count": 145,
   "metadata": {},
   "outputs": [
    {
     "data": {
      "text/plain": [
       "benzin     217582\n",
       "diesel     106002\n",
       "lpg          5222\n",
       "cng           557\n",
       "hybrid        271\n",
       "andere        165\n",
       "elektro       101\n",
       "Name: fuelType, dtype: int64"
      ]
     },
     "execution_count": 145,
     "metadata": {},
     "output_type": "execute_result"
    }
   ],
   "source": [
    "repository.loc[pd.isnull(repository['fuelType'])]\n",
    "repository['fuelType'].value_counts() # benzin"
   ]
  },
  {
   "cell_type": "code",
   "execution_count": 146,
   "metadata": {},
   "outputs": [
    {
     "data": {
      "text/plain": [
       "nein    259301\n",
       "ja       34004\n",
       "Name: notRepairedDamage, dtype: int64"
      ]
     },
     "execution_count": 146,
     "metadata": {},
     "output_type": "execute_result"
    }
   ],
   "source": [
    "repository.loc[pd.isnull(repository['notRepairedDamage'])]\n",
    "repository['notRepairedDamage'].value_counts() # nein"
   ]
  },
  {
   "cell_type": "code",
   "execution_count": 147,
   "metadata": {},
   "outputs": [],
   "source": [
    "values = {\n",
    "    'vehicleType': 'limousine',\n",
    "    'gearbox': 'manuell',\n",
    "    'model': 'golf',\n",
    "    'fuelType': 'benzin',\n",
    "    'notRepairedDamage': 'nein'\n",
    "}\n",
    "\n",
    "repository = repository.fillna(value=values)"
   ]
  },
  {
   "cell_type": "code",
   "execution_count": 148,
   "metadata": {},
   "outputs": [],
   "source": [
    "previsors = repository.iloc[:, 1:13].values\n",
    "real_price = repository.iloc[:, 0].values\n"
   ]
  },
  {
   "cell_type": "code",
   "execution_count": 149,
   "metadata": {},
   "outputs": [],
   "source": [
    "from sklearn.preprocessing import LabelEncoder, OneHotEncoder\n",
    "labelEncoder_prev = LabelEncoder()\n",
    "previsors[:,0] = labelEncoder_prev.fit_transform(previsors[:,0])\n",
    "previsors[:,1] = labelEncoder_prev.fit_transform(previsors[:,1])\n",
    "previsors[:,3] = labelEncoder_prev.fit_transform(previsors[:,3])\n",
    "previsors[:,5] = labelEncoder_prev.fit_transform(previsors[:,5])\n",
    "previsors[:,8] = labelEncoder_prev.fit_transform(previsors[:,8])\n",
    "previsors[:,9] = labelEncoder_prev.fit_transform(previsors[:,9])\n",
    "previsors[:,10] = labelEncoder_prev.fit_transform(previsors[:,10])"
   ]
  },
  {
   "cell_type": "code",
   "execution_count": 150,
   "metadata": {},
   "outputs": [
    {
     "name": "stderr",
     "output_type": "stream",
     "text": [
      "c:\\ProgramData\\anaconda3\\lib\\site-packages\\sklearn\\preprocessing\\_encoders.py:828: FutureWarning: `sparse` was renamed to `sparse_output` in version 1.2 and will be removed in 1.4. `sparse_output` is ignored unless you leave `sparse` to its default value.\n",
      "  warnings.warn(\n"
     ]
    }
   ],
   "source": [
    "import numpy as np\n",
    "encoder = OneHotEncoder(sparse=False)\n",
    "cols_to_encode = [0, 1, 3, 5, 8, 9, 10]\n",
    "columns_to_encode = previsors[:, cols_to_encode]\n",
    "encoded_columns = encoder.fit_transform(columns_to_encode)\n",
    "dataset_encoded = np.delete(previsors, cols_to_encode, axis=1)\n",
    "dataset_encoded = np.concatenate((dataset_encoded, encoded_columns), axis=1)\n",
    "previsors =dataset_encoded\n"
   ]
  },
  {
   "cell_type": "code",
   "execution_count": 152,
   "metadata": {},
   "outputs": [
    {
     "data": {
      "text/plain": [
       "array([[1993, 0, 150000, ..., 0.0, 0.0, 1.0],\n",
       "       [2011, 190, 125000, ..., 0.0, 1.0, 0.0],\n",
       "       [2004, 163, 125000, ..., 0.0, 0.0, 1.0],\n",
       "       ...,\n",
       "       [1996, 102, 150000, ..., 0.0, 0.0, 1.0],\n",
       "       [2002, 100, 150000, ..., 0.0, 0.0, 1.0],\n",
       "       [2013, 320, 50000, ..., 0.0, 0.0, 1.0]], dtype=object)"
      ]
     },
     "execution_count": 152,
     "metadata": {},
     "output_type": "execute_result"
    }
   ],
   "source": [
    "previsors"
   ]
  }
 ],
 "metadata": {
  "kernelspec": {
   "display_name": "base",
   "language": "python",
   "name": "python3"
  },
  "language_info": {
   "codemirror_mode": {
    "name": "ipython",
    "version": 3
   },
   "file_extension": ".py",
   "mimetype": "text/x-python",
   "name": "python",
   "nbconvert_exporter": "python",
   "pygments_lexer": "ipython3",
   "version": "3.10.9"
  },
  "orig_nbformat": 4
 },
 "nbformat": 4,
 "nbformat_minor": 2
}
