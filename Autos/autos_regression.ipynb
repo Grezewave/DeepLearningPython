{
 "cells": [
  {
   "cell_type": "code",
   "execution_count": 1,
   "metadata": {},
   "outputs": [],
   "source": [
    "import pandas as pd"
   ]
  },
  {
   "cell_type": "code",
   "execution_count": 2,
   "metadata": {},
   "outputs": [],
   "source": [
    "repository = pd.read_csv(\"./autos.csv\", encoding='ISO-8859-1')"
   ]
  },
  {
   "cell_type": "code",
   "execution_count": 3,
   "metadata": {},
   "outputs": [],
   "source": [
    "repository = repository.drop('dateCrawled', axis=1)\\\n",
    "                       .drop('dateCreated', axis=1)\\\n",
    "                       .drop('nrOfPictures', axis=1)\\\n",
    "                       .drop('postalCode', axis=1)\\\n",
    "                       .drop('name', axis=1)\\\n",
    "                       .drop('seller', axis=1)\\\n",
    "                       .drop('offerType', axis=1)\\\n",
    "                       .drop('lastSeen', axis=1)"
   ]
  },
  {
   "cell_type": "code",
   "execution_count": 4,
   "metadata": {},
   "outputs": [],
   "source": [
    "i1 = repository.loc[repository.price <= 10]\n",
    "repository = repository[repository.price > 10]"
   ]
  },
  {
   "cell_type": "code",
   "execution_count": 5,
   "metadata": {},
   "outputs": [],
   "source": [
    "i1 = repository.loc[repository.price >= 350000]\n",
    "repository = repository[repository.price < 350000]"
   ]
  },
  {
   "cell_type": "code",
   "execution_count": 6,
   "metadata": {},
   "outputs": [
    {
     "data": {
      "text/plain": [
       "limousine     93614\n",
       "kleinwagen    78014\n",
       "kombi         65921\n",
       "bus           29699\n",
       "cabrio        22509\n",
       "coupe         18386\n",
       "suv           14477\n",
       "andere         3125\n",
       "Name: vehicleType, dtype: int64"
      ]
     },
     "execution_count": 6,
     "metadata": {},
     "output_type": "execute_result"
    }
   ],
   "source": [
    "repository.loc[pd.isnull(repository['vehicleType'])]\n",
    "repository['vehicleType'].value_counts() #limousine"
   ]
  },
  {
   "cell_type": "code",
   "execution_count": 7,
   "metadata": {},
   "outputs": [
    {
     "data": {
      "text/plain": [
       "manuell      266547\n",
       "automatik     75508\n",
       "Name: gearbox, dtype: int64"
      ]
     },
     "execution_count": 7,
     "metadata": {},
     "output_type": "execute_result"
    }
   ],
   "source": [
    "repository.loc[pd.isnull(repository['gearbox'])]\n",
    "repository['gearbox'].value_counts() # manuell"
   ]
  },
  {
   "cell_type": "code",
   "execution_count": 8,
   "metadata": {},
   "outputs": [
    {
     "data": {
      "text/plain": [
       "golf               28989\n",
       "andere             25560\n",
       "3er                19905\n",
       "polo               12604\n",
       "corsa              12149\n",
       "                   ...  \n",
       "serie_2                8\n",
       "rangerover             6\n",
       "serie_3                3\n",
       "serie_1                1\n",
       "discovery_sport        1\n",
       "Name: model, Length: 251, dtype: int64"
      ]
     },
     "execution_count": 8,
     "metadata": {},
     "output_type": "execute_result"
    }
   ],
   "source": [
    "repository.loc[pd.isnull(repository['model'])]\n",
    "repository['model'].value_counts() # golf"
   ]
  },
  {
   "cell_type": "code",
   "execution_count": 9,
   "metadata": {},
   "outputs": [
    {
     "data": {
      "text/plain": [
       "benzin     217582\n",
       "diesel     106002\n",
       "lpg          5222\n",
       "cng           557\n",
       "hybrid        271\n",
       "andere        165\n",
       "elektro       101\n",
       "Name: fuelType, dtype: int64"
      ]
     },
     "execution_count": 9,
     "metadata": {},
     "output_type": "execute_result"
    }
   ],
   "source": [
    "repository.loc[pd.isnull(repository['fuelType'])]\n",
    "repository['fuelType'].value_counts() # benzin"
   ]
  },
  {
   "cell_type": "code",
   "execution_count": 10,
   "metadata": {},
   "outputs": [
    {
     "data": {
      "text/plain": [
       "nein    259301\n",
       "ja       34004\n",
       "Name: notRepairedDamage, dtype: int64"
      ]
     },
     "execution_count": 10,
     "metadata": {},
     "output_type": "execute_result"
    }
   ],
   "source": [
    "repository.loc[pd.isnull(repository['notRepairedDamage'])]\n",
    "repository['notRepairedDamage'].value_counts() # nein"
   ]
  },
  {
   "cell_type": "code",
   "execution_count": 11,
   "metadata": {},
   "outputs": [],
   "source": [
    "values = {\n",
    "    'vehicleType': 'limousine',\n",
    "    'gearbox': 'manuell',\n",
    "    'model': 'golf',\n",
    "    'fuelType': 'benzin',\n",
    "    'notRepairedDamage': 'nein'\n",
    "}\n",
    "\n",
    "repository = repository.fillna(value=values)"
   ]
  },
  {
   "cell_type": "code",
   "execution_count": 12,
   "metadata": {},
   "outputs": [],
   "source": [
    "previsors = repository.iloc[:, 1:13].values\n",
    "real_price = repository.iloc[:, 0].values\n"
   ]
  },
  {
   "cell_type": "code",
   "execution_count": 13,
   "metadata": {},
   "outputs": [],
   "source": [
    "from sklearn.preprocessing import LabelEncoder, OneHotEncoder\n",
    "labelEncoder_prev = LabelEncoder()\n",
    "previsors[:,0] = labelEncoder_prev.fit_transform(previsors[:,0])\n",
    "previsors[:,1] = labelEncoder_prev.fit_transform(previsors[:,1])\n",
    "previsors[:,3] = labelEncoder_prev.fit_transform(previsors[:,3])\n",
    "previsors[:,5] = labelEncoder_prev.fit_transform(previsors[:,5])\n",
    "previsors[:,8] = labelEncoder_prev.fit_transform(previsors[:,8])\n",
    "previsors[:,9] = labelEncoder_prev.fit_transform(previsors[:,9])\n",
    "previsors[:,10] = labelEncoder_prev.fit_transform(previsors[:,10])"
   ]
  },
  {
   "cell_type": "code",
   "execution_count": 14,
   "metadata": {},
   "outputs": [
    {
     "name": "stderr",
     "output_type": "stream",
     "text": [
      "c:\\ProgramData\\anaconda3\\lib\\site-packages\\sklearn\\preprocessing\\_encoders.py:828: FutureWarning: `sparse` was renamed to `sparse_output` in version 1.2 and will be removed in 1.4. `sparse_output` is ignored unless you leave `sparse` to its default value.\n",
      "  warnings.warn(\n"
     ]
    }
   ],
   "source": [
    "import numpy as np\n",
    "encoder = OneHotEncoder(sparse=False)\n",
    "cols_to_encode = [0, 1, 3, 5, 8, 9, 10]\n",
    "columns_to_encode = previsors[:, cols_to_encode]\n",
    "encoded_columns = encoder.fit_transform(columns_to_encode)\n",
    "dataset_encoded = np.delete(previsors, cols_to_encode, axis=1)\n",
    "dataset_encoded = np.concatenate((dataset_encoded, encoded_columns), axis=1)\n",
    "previsorsEncoded = dataset_encoded.astype(float)"
   ]
  },
  {
   "cell_type": "code",
   "execution_count": 15,
   "metadata": {},
   "outputs": [
    {
     "data": {
      "text/plain": [
       "array([[1.993e+03, 0.000e+00, 1.500e+05, ..., 0.000e+00, 0.000e+00,\n",
       "        1.000e+00],\n",
       "       [2.011e+03, 1.900e+02, 1.250e+05, ..., 0.000e+00, 1.000e+00,\n",
       "        0.000e+00],\n",
       "       [2.004e+03, 1.630e+02, 1.250e+05, ..., 0.000e+00, 0.000e+00,\n",
       "        1.000e+00],\n",
       "       ...,\n",
       "       [1.996e+03, 1.020e+02, 1.500e+05, ..., 0.000e+00, 0.000e+00,\n",
       "        1.000e+00],\n",
       "       [2.002e+03, 1.000e+02, 1.500e+05, ..., 0.000e+00, 0.000e+00,\n",
       "        1.000e+00],\n",
       "       [2.013e+03, 3.200e+02, 5.000e+04, ..., 0.000e+00, 0.000e+00,\n",
       "        1.000e+00]])"
      ]
     },
     "execution_count": 15,
     "metadata": {},
     "output_type": "execute_result"
    }
   ],
   "source": [
    "previsorsEncoded"
   ]
  },
  {
   "cell_type": "code",
   "execution_count": 16,
   "metadata": {},
   "outputs": [],
   "source": [
    "from keras.layers import Dense\n",
    "from keras.models import Sequential"
   ]
  },
  {
   "cell_type": "code",
   "execution_count": 20,
   "metadata": {},
   "outputs": [
    {
     "name": "stdout",
     "output_type": "stream",
     "text": [
      "Epoch 1/100\n",
      "1198/1198 [==============================] - 4s 3ms/step - loss: 3864.6663 - mean_absolute_error: 3864.6663\n",
      "Epoch 2/100\n",
      "1198/1198 [==============================] - 4s 3ms/step - loss: 3421.5439 - mean_absolute_error: 3421.5439\n",
      "Epoch 3/100\n",
      "1198/1198 [==============================] - 4s 3ms/step - loss: 3174.1123 - mean_absolute_error: 3174.1123\n",
      "Epoch 4/100\n",
      "1198/1198 [==============================] - 4s 3ms/step - loss: 2919.1638 - mean_absolute_error: 2919.1638\n",
      "Epoch 5/100\n",
      "1198/1198 [==============================] - 4s 3ms/step - loss: 2793.6895 - mean_absolute_error: 2793.6895\n",
      "Epoch 6/100\n",
      "1198/1198 [==============================] - 4s 3ms/step - loss: 2759.6812 - mean_absolute_error: 2759.6807\n",
      "Epoch 7/100\n",
      "1198/1198 [==============================] - 4s 3ms/step - loss: 2712.2512 - mean_absolute_error: 2712.2512\n",
      "Epoch 8/100\n",
      "1198/1198 [==============================] - 3s 3ms/step - loss: 2668.1182 - mean_absolute_error: 2668.1182\n",
      "Epoch 9/100\n",
      "1198/1198 [==============================] - 4s 3ms/step - loss: 2635.3301 - mean_absolute_error: 2635.3301\n",
      "Epoch 10/100\n",
      "1198/1198 [==============================] - 4s 3ms/step - loss: 2592.8176 - mean_absolute_error: 2592.8176\n",
      "Epoch 11/100\n",
      "1198/1198 [==============================] - 4s 3ms/step - loss: 2556.7703 - mean_absolute_error: 2556.7703\n",
      "Epoch 12/100\n",
      "1198/1198 [==============================] - 4s 3ms/step - loss: 2525.5513 - mean_absolute_error: 2525.5513\n",
      "Epoch 13/100\n",
      "1198/1198 [==============================] - 3s 3ms/step - loss: 2487.9062 - mean_absolute_error: 2487.9062\n",
      "Epoch 14/100\n",
      "1198/1198 [==============================] - 4s 3ms/step - loss: 2486.5977 - mean_absolute_error: 2486.5977\n",
      "Epoch 15/100\n",
      "1198/1198 [==============================] - 4s 3ms/step - loss: 2451.7295 - mean_absolute_error: 2451.7295\n",
      "Epoch 16/100\n",
      "1198/1198 [==============================] - 4s 3ms/step - loss: 2452.8667 - mean_absolute_error: 2452.8667\n",
      "Epoch 17/100\n",
      "1198/1198 [==============================] - 4s 3ms/step - loss: 2426.7097 - mean_absolute_error: 2426.7097\n",
      "Epoch 18/100\n",
      "1198/1198 [==============================] - 4s 3ms/step - loss: 2416.4609 - mean_absolute_error: 2416.4609\n",
      "Epoch 19/100\n",
      "1198/1198 [==============================] - 4s 3ms/step - loss: 2426.0706 - mean_absolute_error: 2426.0706\n",
      "Epoch 20/100\n",
      "1198/1198 [==============================] - 4s 3ms/step - loss: 2399.4348 - mean_absolute_error: 2399.4348\n",
      "Epoch 21/100\n",
      "1198/1198 [==============================] - 4s 3ms/step - loss: 2393.0815 - mean_absolute_error: 2393.0815\n",
      "Epoch 22/100\n",
      "1198/1198 [==============================] - 4s 3ms/step - loss: 2389.2703 - mean_absolute_error: 2389.2703\n",
      "Epoch 23/100\n",
      "1198/1198 [==============================] - 4s 3ms/step - loss: 2390.7212 - mean_absolute_error: 2390.7212\n",
      "Epoch 24/100\n",
      "1198/1198 [==============================] - 4s 3ms/step - loss: 2386.4302 - mean_absolute_error: 2386.4302\n",
      "Epoch 25/100\n",
      "1198/1198 [==============================] - 4s 3ms/step - loss: 2385.5320 - mean_absolute_error: 2385.5320\n",
      "Epoch 26/100\n",
      "1198/1198 [==============================] - 4s 3ms/step - loss: 2384.1890 - mean_absolute_error: 2384.1890\n",
      "Epoch 27/100\n",
      "1198/1198 [==============================] - 4s 3ms/step - loss: 2368.9885 - mean_absolute_error: 2368.9885\n",
      "Epoch 28/100\n",
      "1198/1198 [==============================] - 4s 3ms/step - loss: 2355.7112 - mean_absolute_error: 2355.7112\n",
      "Epoch 29/100\n",
      "1198/1198 [==============================] - 4s 3ms/step - loss: 2375.8228 - mean_absolute_error: 2375.8228\n",
      "Epoch 30/100\n",
      "1198/1198 [==============================] - 4s 3ms/step - loss: 2355.0093 - mean_absolute_error: 2355.0093\n",
      "Epoch 31/100\n",
      "1198/1198 [==============================] - 4s 3ms/step - loss: 2358.6313 - mean_absolute_error: 2358.6313\n",
      "Epoch 32/100\n",
      "1198/1198 [==============================] - 4s 3ms/step - loss: 2361.3313 - mean_absolute_error: 2361.3313\n",
      "Epoch 33/100\n",
      "1198/1198 [==============================] - 4s 3ms/step - loss: 2348.3398 - mean_absolute_error: 2348.3396\n",
      "Epoch 34/100\n",
      "1198/1198 [==============================] - 4s 3ms/step - loss: 2349.4180 - mean_absolute_error: 2349.4180\n",
      "Epoch 35/100\n",
      "1198/1198 [==============================] - 4s 3ms/step - loss: 2341.8918 - mean_absolute_error: 2341.8918\n",
      "Epoch 36/100\n",
      "1198/1198 [==============================] - 4s 3ms/step - loss: 2340.7217 - mean_absolute_error: 2340.7217\n",
      "Epoch 37/100\n",
      "1198/1198 [==============================] - 4s 3ms/step - loss: 2344.2363 - mean_absolute_error: 2344.2363\n",
      "Epoch 38/100\n",
      "1198/1198 [==============================] - 4s 3ms/step - loss: 2333.8992 - mean_absolute_error: 2333.8992\n",
      "Epoch 39/100\n",
      "1198/1198 [==============================] - 4s 3ms/step - loss: 2325.9702 - mean_absolute_error: 2325.9705\n",
      "Epoch 40/100\n",
      "1198/1198 [==============================] - 4s 3ms/step - loss: 2340.8333 - mean_absolute_error: 2340.8333\n",
      "Epoch 41/100\n",
      "1198/1198 [==============================] - 4s 3ms/step - loss: 2312.5500 - mean_absolute_error: 2312.5500\n",
      "Epoch 42/100\n",
      "1198/1198 [==============================] - 4s 3ms/step - loss: 2329.6692 - mean_absolute_error: 2329.6692\n",
      "Epoch 43/100\n",
      "1198/1198 [==============================] - 4s 3ms/step - loss: 2318.2131 - mean_absolute_error: 2318.2131\n",
      "Epoch 44/100\n",
      "1198/1198 [==============================] - 4s 3ms/step - loss: 2320.4719 - mean_absolute_error: 2320.4719\n",
      "Epoch 45/100\n",
      "1198/1198 [==============================] - 4s 3ms/step - loss: 2309.1638 - mean_absolute_error: 2309.1638\n",
      "Epoch 46/100\n",
      "1198/1198 [==============================] - 4s 3ms/step - loss: 2315.9851 - mean_absolute_error: 2315.9851\n",
      "Epoch 47/100\n",
      "1198/1198 [==============================] - 4s 3ms/step - loss: 2314.9517 - mean_absolute_error: 2314.9517\n",
      "Epoch 48/100\n",
      "1198/1198 [==============================] - 4s 3ms/step - loss: 2308.2659 - mean_absolute_error: 2308.2659\n",
      "Epoch 49/100\n",
      "1198/1198 [==============================] - 4s 3ms/step - loss: 2311.7732 - mean_absolute_error: 2311.7732\n",
      "Epoch 50/100\n",
      "1198/1198 [==============================] - 4s 3ms/step - loss: 2312.1108 - mean_absolute_error: 2312.1108\n",
      "Epoch 51/100\n",
      "1198/1198 [==============================] - 4s 3ms/step - loss: 2306.1106 - mean_absolute_error: 2306.1106\n",
      "Epoch 52/100\n",
      "1198/1198 [==============================] - 4s 3ms/step - loss: 2299.3982 - mean_absolute_error: 2299.3984\n",
      "Epoch 53/100\n",
      "1198/1198 [==============================] - 4s 3ms/step - loss: 2297.4399 - mean_absolute_error: 2297.4399\n",
      "Epoch 54/100\n",
      "1198/1198 [==============================] - 4s 3ms/step - loss: 2291.2324 - mean_absolute_error: 2291.2324\n",
      "Epoch 55/100\n",
      "1198/1198 [==============================] - 4s 3ms/step - loss: 2298.6270 - mean_absolute_error: 2298.6270\n",
      "Epoch 56/100\n",
      "1198/1198 [==============================] - 4s 3ms/step - loss: 2299.2278 - mean_absolute_error: 2299.2278\n",
      "Epoch 57/100\n",
      "1198/1198 [==============================] - 4s 3ms/step - loss: 2297.6917 - mean_absolute_error: 2297.6919\n",
      "Epoch 58/100\n",
      "1198/1198 [==============================] - 4s 3ms/step - loss: 2298.8687 - mean_absolute_error: 2298.8687\n",
      "Epoch 59/100\n",
      "1198/1198 [==============================] - 4s 3ms/step - loss: 2276.3210 - mean_absolute_error: 2276.3210\n",
      "Epoch 60/100\n",
      "1198/1198 [==============================] - 4s 3ms/step - loss: 2291.1624 - mean_absolute_error: 2291.1624\n",
      "Epoch 61/100\n",
      "1198/1198 [==============================] - 4s 3ms/step - loss: 2288.1094 - mean_absolute_error: 2288.1094\n",
      "Epoch 62/100\n",
      "1198/1198 [==============================] - 4s 3ms/step - loss: 2278.9863 - mean_absolute_error: 2278.9863\n",
      "Epoch 63/100\n",
      "1198/1198 [==============================] - 4s 3ms/step - loss: 2286.0620 - mean_absolute_error: 2286.0620\n",
      "Epoch 64/100\n",
      "1198/1198 [==============================] - 4s 3ms/step - loss: 2274.1340 - mean_absolute_error: 2274.1340\n",
      "Epoch 65/100\n",
      "1198/1198 [==============================] - 4s 3ms/step - loss: 2281.0916 - mean_absolute_error: 2281.0916\n",
      "Epoch 66/100\n",
      "1198/1198 [==============================] - 4s 3ms/step - loss: 2269.8186 - mean_absolute_error: 2269.8186\n",
      "Epoch 67/100\n",
      "1198/1198 [==============================] - 4s 3ms/step - loss: 2283.6160 - mean_absolute_error: 2283.6160\n",
      "Epoch 68/100\n",
      "1198/1198 [==============================] - 4s 3ms/step - loss: 2280.2434 - mean_absolute_error: 2280.2437\n",
      "Epoch 69/100\n",
      "1198/1198 [==============================] - 4s 3ms/step - loss: 2267.6699 - mean_absolute_error: 2267.6699\n",
      "Epoch 70/100\n",
      "1198/1198 [==============================] - 4s 3ms/step - loss: 2269.9463 - mean_absolute_error: 2269.9463\n",
      "Epoch 71/100\n",
      "1198/1198 [==============================] - 4s 3ms/step - loss: 2266.8789 - mean_absolute_error: 2266.8789\n",
      "Epoch 72/100\n",
      "1198/1198 [==============================] - 4s 3ms/step - loss: 2258.6343 - mean_absolute_error: 2258.6343\n",
      "Epoch 73/100\n",
      "1198/1198 [==============================] - 4s 3ms/step - loss: 2275.4382 - mean_absolute_error: 2275.4382\n",
      "Epoch 74/100\n",
      "1198/1198 [==============================] - 4s 3ms/step - loss: 2260.6279 - mean_absolute_error: 2260.6279\n",
      "Epoch 75/100\n",
      "1198/1198 [==============================] - 4s 3ms/step - loss: 2261.8447 - mean_absolute_error: 2261.8447\n",
      "Epoch 76/100\n",
      "1198/1198 [==============================] - 4s 3ms/step - loss: 2264.7344 - mean_absolute_error: 2264.7344\n",
      "Epoch 77/100\n",
      "1198/1198 [==============================] - 4s 3ms/step - loss: 2267.3218 - mean_absolute_error: 2267.3218\n",
      "Epoch 78/100\n",
      "1198/1198 [==============================] - 4s 3ms/step - loss: 2258.4644 - mean_absolute_error: 2258.4644\n",
      "Epoch 79/100\n",
      "1198/1198 [==============================] - 4s 3ms/step - loss: 2259.3621 - mean_absolute_error: 2259.3623\n",
      "Epoch 80/100\n",
      "1198/1198 [==============================] - 4s 3ms/step - loss: 2260.3040 - mean_absolute_error: 2260.3040\n",
      "Epoch 81/100\n",
      "1198/1198 [==============================] - 4s 3ms/step - loss: 2257.9690 - mean_absolute_error: 2257.9690\n",
      "Epoch 82/100\n",
      "1198/1198 [==============================] - 4s 3ms/step - loss: 2240.7922 - mean_absolute_error: 2240.7922\n",
      "Epoch 83/100\n",
      "1198/1198 [==============================] - 4s 3ms/step - loss: 2252.7014 - mean_absolute_error: 2252.7014\n",
      "Epoch 84/100\n",
      "1198/1198 [==============================] - 4s 3ms/step - loss: 2255.1067 - mean_absolute_error: 2255.1067\n",
      "Epoch 85/100\n",
      "1198/1198 [==============================] - 4s 3ms/step - loss: 2242.1716 - mean_absolute_error: 2242.1716\n",
      "Epoch 86/100\n",
      "1198/1198 [==============================] - 4s 3ms/step - loss: 2252.3628 - mean_absolute_error: 2252.3628\n",
      "Epoch 87/100\n",
      "1198/1198 [==============================] - 4s 3ms/step - loss: 2248.8030 - mean_absolute_error: 2248.8030\n",
      "Epoch 88/100\n",
      "1198/1198 [==============================] - 4s 3ms/step - loss: 2246.5803 - mean_absolute_error: 2246.5803\n",
      "Epoch 89/100\n",
      "1198/1198 [==============================] - 4s 3ms/step - loss: 2244.0269 - mean_absolute_error: 2244.0269\n",
      "Epoch 90/100\n",
      "1198/1198 [==============================] - 4s 3ms/step - loss: 2241.2954 - mean_absolute_error: 2241.2954\n",
      "Epoch 91/100\n",
      "1198/1198 [==============================] - 4s 3ms/step - loss: 2240.7175 - mean_absolute_error: 2240.7175\n",
      "Epoch 92/100\n",
      "1198/1198 [==============================] - 4s 3ms/step - loss: 2238.4905 - mean_absolute_error: 2238.4905\n",
      "Epoch 93/100\n",
      "1198/1198 [==============================] - 4s 3ms/step - loss: 2237.2078 - mean_absolute_error: 2237.2075\n",
      "Epoch 94/100\n",
      "1198/1198 [==============================] - 4s 3ms/step - loss: 2230.6570 - mean_absolute_error: 2230.6570\n",
      "Epoch 95/100\n",
      "1198/1198 [==============================] - 4s 3ms/step - loss: 2242.1665 - mean_absolute_error: 2242.1665\n",
      "Epoch 96/100\n",
      "1198/1198 [==============================] - 4s 3ms/step - loss: 2244.7739 - mean_absolute_error: 2244.7739\n",
      "Epoch 97/100\n",
      "1198/1198 [==============================] - 4s 3ms/step - loss: 2246.1003 - mean_absolute_error: 2246.1003\n",
      "Epoch 98/100\n",
      "1198/1198 [==============================] - 4s 3ms/step - loss: 2231.6704 - mean_absolute_error: 2231.6704\n",
      "Epoch 99/100\n",
      "1198/1198 [==============================] - 4s 3ms/step - loss: 2229.3911 - mean_absolute_error: 2229.3911\n",
      "Epoch 100/100\n",
      "1198/1198 [==============================] - 4s 3ms/step - loss: 2242.9841 - mean_absolute_error: 2242.9841\n"
     ]
    },
    {
     "data": {
      "text/plain": [
       "<keras.callbacks.History at 0x1a92e7de620>"
      ]
     },
     "execution_count": 20,
     "metadata": {},
     "output_type": "execute_result"
    }
   ],
   "source": [
    "regressor = Sequential()\n",
    "regressor.add(Dense(units=158, activation='relu', input_dim=316))\n",
    "regressor.add(Dense(units=158, activation='relu'))\n",
    "regressor.add(Dense(units=1, activation='linear'))\n",
    "regressor.compile(loss='mean_absolute_error', optimizer='adam', metrics=['mean_absolute_error'])\n",
    "regressor.fit(previsorsEncoded, real_price, batch_size=300, epochs=100, workers=32, use_multiprocessing=True)"
   ]
  },
  {
   "cell_type": "code",
   "execution_count": 21,
   "metadata": {},
   "outputs": [
    {
     "name": "stdout",
     "output_type": "stream",
     "text": [
      "11228/11228 [==============================] - 16s 1ms/step\n"
     ]
    }
   ],
   "source": [
    "predictions = regressor.predict(previsorsEncoded)"
   ]
  },
  {
   "cell_type": "code",
   "execution_count": 22,
   "metadata": {},
   "outputs": [
    {
     "data": {
      "text/plain": [
       "array([[  896.8269],\n",
       "       [ 9207.505 ],\n",
       "       [11572.95  ],\n",
       "       ...,\n",
       "       [ 6539.1523],\n",
       "       [ 3537.3735],\n",
       "       [25226.713 ]], dtype=float32)"
      ]
     },
     "execution_count": 22,
     "metadata": {},
     "output_type": "execute_result"
    }
   ],
   "source": [
    "predictions"
   ]
  }
 ],
 "metadata": {
  "kernelspec": {
   "display_name": "base",
   "language": "python",
   "name": "python3"
  },
  "language_info": {
   "codemirror_mode": {
    "name": "ipython",
    "version": 3
   },
   "file_extension": ".py",
   "mimetype": "text/x-python",
   "name": "python",
   "nbconvert_exporter": "python",
   "pygments_lexer": "ipython3",
   "version": "3.10.9"
  },
  "orig_nbformat": 4
 },
 "nbformat": 4,
 "nbformat_minor": 2
}
