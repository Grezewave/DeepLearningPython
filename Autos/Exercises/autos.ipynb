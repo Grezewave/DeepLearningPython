{
 "cells": [
  {
   "cell_type": "code",
   "execution_count": 1,
   "metadata": {},
   "outputs": [],
   "source": [
    "import pandas as pd\n",
    "from keras.layers import Dense\n",
    "from keras.models import Sequential\n",
    "import numpy as np\n",
    "from sklearn.preprocessing import LabelEncoder, OneHotEncoder\n",
    "from keras.layers import Dense\n",
    "from keras.models import Sequential\n",
    "from keras.wrappers.scikit_learn import KerasRegressor\n",
    "from sklearn.model_selection import GridSearchCV"
   ]
  },
  {
   "cell_type": "code",
   "execution_count": 2,
   "metadata": {},
   "outputs": [],
   "source": [
    "repository = pd.read_csv(\"../autos.csv\", encoding='ISO-8859-1')"
   ]
  },
  {
   "cell_type": "code",
   "execution_count": 3,
   "metadata": {},
   "outputs": [],
   "source": [
    "repository = repository.drop('dateCrawled', axis=1)\\\n",
    "                       .drop('dateCreated', axis=1)\\\n",
    "                       .drop('nrOfPictures', axis=1)\\\n",
    "                       .drop('postalCode', axis=1)\\\n",
    "                       .drop('name', axis=1)\\\n",
    "                       .drop('seller', axis=1)\\\n",
    "                       .drop('offerType', axis=1)\\\n",
    "                       .drop('lastSeen', axis=1)"
   ]
  },
  {
   "cell_type": "code",
   "execution_count": 4,
   "metadata": {},
   "outputs": [],
   "source": [
    "i1 = repository.loc[repository.price <= 10]\n",
    "repository = repository[repository.price > 10]\n",
    "i1 = repository.loc[repository.price >= 350000]\n",
    "repository = repository[repository.price < 350000]\n",
    "values = {\n",
    "    'vehicleType': 'limousine',\n",
    "    'gearbox': 'manuell',\n",
    "    'model': 'golf',\n",
    "    'fuelType': 'benzin',\n",
    "    'notRepairedDamage': 'nein'\n",
    "}\n",
    "\n",
    "repository = repository.fillna(value=values)\n"
   ]
  },
  {
   "cell_type": "code",
   "execution_count": 5,
   "metadata": {},
   "outputs": [],
   "source": [
    "previsors = repository.iloc[:, 1:13].values\n",
    "real_price = repository.iloc[:, 0].values"
   ]
  },
  {
   "cell_type": "code",
   "execution_count": 6,
   "metadata": {},
   "outputs": [],
   "source": [
    "\n",
    "labelEncoder_prev = LabelEncoder()\n",
    "previsors[:,0] = labelEncoder_prev.fit_transform(previsors[:,0])\n",
    "previsors[:,1] = labelEncoder_prev.fit_transform(previsors[:,1])\n",
    "previsors[:,3] = labelEncoder_prev.fit_transform(previsors[:,3])\n",
    "previsors[:,5] = labelEncoder_prev.fit_transform(previsors[:,5])\n",
    "previsors[:,8] = labelEncoder_prev.fit_transform(previsors[:,8])\n",
    "previsors[:,9] = labelEncoder_prev.fit_transform(previsors[:,9])\n",
    "previsors[:,10] = labelEncoder_prev.fit_transform(previsors[:,10])"
   ]
  },
  {
   "cell_type": "code",
   "execution_count": 7,
   "metadata": {},
   "outputs": [
    {
     "name": "stderr",
     "output_type": "stream",
     "text": [
      "c:\\ProgramData\\anaconda3\\lib\\site-packages\\sklearn\\preprocessing\\_encoders.py:828: FutureWarning: `sparse` was renamed to `sparse_output` in version 1.2 and will be removed in 1.4. `sparse_output` is ignored unless you leave `sparse` to its default value.\n",
      "  warnings.warn(\n"
     ]
    }
   ],
   "source": [
    "encoder = OneHotEncoder(sparse=False)\n",
    "cols_to_encode = [0, 1, 3, 5, 8, 9, 10]\n",
    "columns_to_encode = previsors[:, cols_to_encode]\n",
    "encoded_columns = encoder.fit_transform(columns_to_encode)\n",
    "dataset_encoded = np.delete(previsors, cols_to_encode, axis=1)\n",
    "dataset_encoded = np.concatenate((dataset_encoded, encoded_columns), axis=1)\n",
    "previsorsEncoded = dataset_encoded.astype(float)"
   ]
  },
  {
   "cell_type": "code",
   "execution_count": 8,
   "metadata": {},
   "outputs": [],
   "source": [
    "def createNetwork(loss):\n",
    "    regressor = Sequential()\n",
    "    regressor.add(Dense(units=158, activation='relu', input_dim=316))\n",
    "    regressor.add(Dense(units=158, activation='relu'))\n",
    "    regressor.add(Dense(units=1, activation='linear'))\n",
    "    regressor.compile(loss=loss, optimizer='adam', metrics=['mean_absolute_error'])\n",
    "\n",
    "    return regressor"
   ]
  },
  {
   "cell_type": "code",
   "execution_count": 9,
   "metadata": {},
   "outputs": [
    {
     "name": "stderr",
     "output_type": "stream",
     "text": [
      "C:\\Users\\Greze\\AppData\\Local\\Temp\\ipykernel_16820\\2290633016.py:1: DeprecationWarning: KerasRegressor is deprecated, use Sci-Keras (https://github.com/adriangb/scikeras) instead. See https://www.adriangb.com/scikeras/stable/migration.html for help migrating.\n",
      "  classifier = KerasRegressor(build_fn=createNetwork)\n"
     ]
    }
   ],
   "source": [
    "classifier = KerasRegressor(build_fn=createNetwork)\n",
    "parameters = {\n",
    "    'batch_size': [10],\n",
    "    'epochs': [100],\n",
    "    'loss': ['mean_squared_error' , 'mean_absolute_error' , 'mean_absolute_percentage_error' , 'mean_squared_logarithmic_error', 'squared_hinge']\n",
    "}"
   ]
  },
  {
   "cell_type": "code",
   "execution_count": 10,
   "metadata": {},
   "outputs": [
    {
     "name": "stderr",
     "output_type": "stream",
     "text": [
      "c:\\ProgramData\\anaconda3\\lib\\site-packages\\sklearn\\model_selection\\_search.py:952: UserWarning: One or more of the test scores are non-finite: [nan nan nan nan nan]\n",
      "  warnings.warn(\n"
     ]
    }
   ],
   "source": [
    "gridSearch = GridSearchCV(\n",
    "    estimator=classifier,\n",
    "    param_grid=parameters,\n",
    "    scoring='accuracy',\n",
    "    cv=3,\n",
    "    n_jobs=5\n",
    ")\n",
    "\n",
    "gridSearch = gridSearch.fit(\n",
    "    previsorsEncoded,\n",
    "    real_price,\n",
    "    verbose=0,\n",
    "    use_multiprocessing = True,\n",
    ")"
   ]
  },
  {
   "cell_type": "code",
   "execution_count": 12,
   "metadata": {},
   "outputs": [
    {
     "data": {
      "text/plain": [
       "{'batch_size': 10, 'epochs': 100, 'loss': 'mean_squared_error'}"
      ]
     },
     "execution_count": 12,
     "metadata": {},
     "output_type": "execute_result"
    }
   ],
   "source": [
    "gridSearch.best_params_"
   ]
  }
 ],
 "metadata": {
  "kernelspec": {
   "display_name": "base",
   "language": "python",
   "name": "python3"
  },
  "language_info": {
   "codemirror_mode": {
    "name": "ipython",
    "version": 3
   },
   "file_extension": ".py",
   "mimetype": "text/x-python",
   "name": "python",
   "nbconvert_exporter": "python",
   "pygments_lexer": "ipython3",
   "version": "3.10.9"
  },
  "orig_nbformat": 4
 },
 "nbformat": 4,
 "nbformat_minor": 2
}
