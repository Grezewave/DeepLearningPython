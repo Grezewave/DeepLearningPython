{
 "cells": [
  {
   "cell_type": "code",
   "execution_count": 10,
   "metadata": {},
   "outputs": [],
   "source": [
    "import pandas as pd\n",
    "import numpy as np\n",
    "from keras import callbacks\n",
    "from keras.layers import Dense, Dropout\n",
    "from keras.models import Sequential\n",
    "from keras.wrappers.scikit_learn import KerasClassifier\n",
    "from sklearn.model_selection import GridSearchCV"
   ]
  },
  {
   "cell_type": "code",
   "execution_count": 2,
   "metadata": {},
   "outputs": [],
   "source": [
    "inputs = pd.read_csv(\"../BreastCancer/entradas_breast.csv\")\n",
    "outputs = pd.read_csv(\"../BreastCancer/saidas_breast.csv\")"
   ]
  },
  {
   "cell_type": "code",
   "execution_count": 31,
   "metadata": {},
   "outputs": [],
   "source": [
    "# define callback\n",
    "class Callback(callbacks.Callback):\n",
    "    SHOW_NUMBER = 25\n",
    "    \n",
    "    epoch = 0\n",
    "\n",
    "    # gives epoch feedback each 25 epochs\n",
    "    def on_epoch_end(self, epoch, logs=None):\n",
    "        self.epoch = epoch\n",
    "        if (self.epoch % 25 == 0):\n",
    "            print('Epoch: ' + str(self.epoch) + ' loss: ' + str(logs['loss']))"
   ]
  },
  {
   "cell_type": "code",
   "execution_count": 5,
   "metadata": {},
   "outputs": [],
   "source": [
    "def createNetwork(\n",
    "        optimizer,\n",
    "        loss,\n",
    "        kernel_initializer,\n",
    "        activation,\n",
    "        neurons\n",
    "    ):\n",
    "    classifier = Sequential()\n",
    "    classifier.add(Dense(\n",
    "        units=neurons,\n",
    "        activation=activation,\n",
    "        kernel_initializer=kernel_initializer,\n",
    "        input_dim=30\n",
    "    ))\n",
    "    # units = (number_of_features + number_of_output_neurons)/2\n",
    "    \n",
    "    classifier.add(Dropout(0.2))\n",
    "    \n",
    "    classifier.add(Dense(\n",
    "        units=neurons,\n",
    "        activation=activation,\n",
    "        kernel_initializer=kernel_initializer,\n",
    "    ))\n",
    "\n",
    "    classifier.add(Dropout(0.2))\n",
    "\n",
    "    classifier.add(Dense(\n",
    "        units=1,\n",
    "        activation='sigmoid'  # critical parameter\n",
    "    ))\n",
    "\n",
    "    classifier.compile(\n",
    "        optimizer=optimizer,\n",
    "        # optimizer = 'adam'\n",
    "        loss=loss,\n",
    "        metrics=['binary_accuracy']\n",
    "    )\n",
    "\n",
    "    return classifier\n"
   ]
  },
  {
   "cell_type": "code",
   "execution_count": 8,
   "metadata": {},
   "outputs": [],
   "source": [
    "classifier = createNetwork('adam', 'binary_crossentropy', 'normal', 'relu', '8')"
   ]
  },
  {
   "cell_type": "code",
   "execution_count": 32,
   "metadata": {},
   "outputs": [
    {
     "name": "stdout",
     "output_type": "stream",
     "text": [
      "Epoch: 0 loss: 0.15892700850963593\n",
      "Epoch: 25 loss: 0.1814817488193512\n",
      "Epoch: 50 loss: 0.16588303446769714\n",
      "Epoch: 75 loss: 0.144547238945961\n"
     ]
    },
    {
     "data": {
      "text/plain": [
       "<keras.callbacks.History at 0x216b234b280>"
      ]
     },
     "execution_count": 32,
     "metadata": {},
     "output_type": "execute_result"
    }
   ],
   "source": [
    "classifier.fit(inputs, outputs, batch_size=10, epochs=100, use_multiprocessing=True, verbose=0, callbacks=[Callback()])"
   ]
  },
  {
   "cell_type": "code",
   "execution_count": 15,
   "metadata": {},
   "outputs": [
    {
     "name": "stdout",
     "output_type": "stream",
     "text": [
      "1/1 [==============================] - 0s 83ms/step\n",
      "[[ True]]\n"
     ]
    }
   ],
   "source": [
    "breast_data = np.array([[15.80, 8.34, 118, 900, 0.10, 0.26, 0.08, 0.134, 0.178,\n",
    "                  0.20, 0.05, 1098, 0.87, 4500, 145.2, 0.005, 0.04, 0.05, 0.015,\n",
    "                  0.03, 0.007, 23.15, 16.64, 178.5, 2018, 0.14, 0.185,\n",
    "                  0.84, 158, 0.363]])\n",
    "\n",
    "prediction = classifier.predict(breast_data)\n",
    "prediction = (prediction > 0.5)\n",
    "print(prediction)"
   ]
  },
  {
   "cell_type": "code",
   "execution_count": null,
   "metadata": {},
   "outputs": [],
   "source": []
  }
 ],
 "metadata": {
  "kernelspec": {
   "display_name": "base",
   "language": "python",
   "name": "python3"
  },
  "language_info": {
   "codemirror_mode": {
    "name": "ipython",
    "version": 3
   },
   "file_extension": ".py",
   "mimetype": "text/x-python",
   "name": "python",
   "nbconvert_exporter": "python",
   "pygments_lexer": "ipython3",
   "version": "3.10.9"
  },
  "orig_nbformat": 4
 },
 "nbformat": 4,
 "nbformat_minor": 2
}
